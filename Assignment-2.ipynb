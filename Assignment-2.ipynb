{
 "cells": [
  {
   "cell_type": "code",
   "execution_count": null,
   "id": "0686ed9b",
   "metadata": {},
   "outputs": [],
   "source": [
    "\"\"\"the two values of boolean data type are:\"\"\"\n",
    "True\n",
    "False\n",
    "in the above data type first letter must be capital"
   ]
  },
  {
   "cell_type": "code",
   "execution_count": null,
   "id": "0eac751b",
   "metadata": {},
   "outputs": [],
   "source": [
    "\"\"\"three different types of boolean operators are:\n",
    "1)and\n",
    "2)or\n",
    "3)not\n",
    "\"\"\""
   ]
  },
  {
   "cell_type": "code",
   "execution_count": null,
   "id": "04358454",
   "metadata": {},
   "outputs": [],
   "source": [
    "\"\"\"\n",
    "0:false 1:true\n",
    "and truth table   or truth table     not truth table\n",
    "p q p and q       p q  p or q          p not p\n",
    "0 0   0           0 0    0             0  1\n",
    "0 1   0           0 1    1             1  0\n",
    "1 0   0           1 0    1\n",
    "1 1   1           1 1    0\n",
    "\"\"\""
   ]
  },
  {
   "cell_type": "code",
   "execution_count": 9,
   "id": "786205a0",
   "metadata": {},
   "outputs": [
    {
     "name": "stdout",
     "output_type": "stream",
     "text": [
      "False\n",
      "False\n",
      "True\n",
      "False\n",
      "False\n",
      "True\n"
     ]
    }
   ],
   "source": [
    "print((5>4) and(3==5))\n",
    "print(not(5>4))\n",
    "print((5>4)or (3 == 5))\n",
    "print(not((5>4) or (3 == 5)))\n",
    "print((True and True) and (True == False) )\n",
    "print(not(False) or not(True))"
   ]
  },
  {
   "cell_type": "code",
   "execution_count": null,
   "id": "44d0addf",
   "metadata": {},
   "outputs": [],
   "source": [
    "\"\"\"less than(<)\n",
    "greater than(>)\n",
    "equal to(==)\n",
    "not equal to(!=)\n",
    "less than equal to(<=)\n",
    "greater than equal to(>=)\"\"\""
   ]
  },
  {
   "cell_type": "code",
   "execution_count": 10,
   "id": "970cfcf2",
   "metadata": {},
   "outputs": [
    {
     "name": "stdout",
     "output_type": "stream",
     "text": [
      "True\n"
     ]
    }
   ],
   "source": [
    "a=5\n",
    "b=5\n",
    "#if we want to see the  values  of two variabes is equal or not you shpuld use equal to\n",
    "print(a==b)"
   ]
  },
  {
   "cell_type": "code",
   "execution_count": 11,
   "id": "1e9f4de0",
   "metadata": {},
   "outputs": [
    {
     "name": "stdout",
     "output_type": "stream",
     "text": [
      "5\n"
     ]
    }
   ],
   "source": [
    "a=1\n",
    "b=5\n",
    "a=b\n",
    "print(a)\n",
    "# here the value of b is assigned to a ,so this is not equal to operator,this is assignment operator\n",
    "# if you want to assign value to a variable you must use thisspam=o"
   ]
  },
  {
   "cell_type": "code",
   "execution_count": 53,
   "id": "177192e4",
   "metadata": {},
   "outputs": [
    {
     "name": "stdout",
     "output_type": "stream",
     "text": [
      "enter a number:10\n",
      "eggs\n",
      "bacon\n"
     ]
    }
   ],
   "source": [
    "spam=int(input(\"enter a number:\"))\n",
    "\n",
    "if spam ==10:\n",
    "    print('eggs')\n",
    "if spam>5:\n",
    "        print('bacon')\n",
    "else:\n",
    "    \n",
    "    print(\"ham\")\n",
    "    print(\"spam\")\n",
    "    print(\"spam\")\n"
   ]
  },
  {
   "cell_type": "code",
   "execution_count": 54,
   "id": "a130fbed",
   "metadata": {},
   "outputs": [
    {
     "name": "stdout",
     "output_type": "stream",
     "text": [
      "enter a number:10\n",
      "greetings\n"
     ]
    }
   ],
   "source": [
    "spam=int(input(\"enter a number:\"))\n",
    "\n",
    "if spam == 1:\n",
    "          print(\"hello\")\n",
    "elif spam == 2:\n",
    "       print(\"howdy\")\n",
    "else:\n",
    "\n",
    "    print(\"Greetings!\")\n",
    "   "
   ]
  },
  {
   "cell_type": "code",
   "execution_count": null,
   "id": "c5556c01",
   "metadata": {},
   "outputs": [],
   "source": [
    "\"\"\"If we struck ina endless loop we can press ctrl+c\"\"\"\n"
   ]
  },
  {
   "cell_type": "code",
   "execution_count": 83,
   "id": "b4dc5836",
   "metadata": {},
   "outputs": [
    {
     "name": "stdout",
     "output_type": "stream",
     "text": [
      "0\n",
      "1\n",
      "2\n",
      "3\n",
      "4\n",
      "5\n",
      "6\n",
      "8\n",
      "9\n",
      "10\n"
     ]
    }
   ],
   "source": [
    "s=11\n",
    "for i in range(s):\n",
    "    if i==7:\n",
    "        continue\n",
    "    else:\n",
    "        print(i)\n",
    "    #in continue statement if the condition we kept occurs it leaves that condition and doesnt print and goes on to print \n",
    "    #next conditon,if we want to skip a particular condition we can use continue"
   ]
  },
  {
   "cell_type": "code",
   "execution_count": 84,
   "id": "1c324d5c",
   "metadata": {},
   "outputs": [
    {
     "name": "stdout",
     "output_type": "stream",
     "text": [
      "0\n",
      "1\n",
      "2\n",
      "3\n",
      "4\n",
      "5\n",
      "6\n"
     ]
    }
   ],
   "source": [
    "s=10\n",
    "for i in range(s):\n",
    "    if i==7:\n",
    "        break\n",
    "    else:\n",
    "        print(i)\n",
    "#whereas in break , if the condition we kept is true it stops the loop and exits the loop\n",
    "#if we want to stop the loop at a particular condition ,then we can use break"
   ]
  },
  {
   "cell_type": "code",
   "execution_count": 93,
   "id": "951ca73b",
   "metadata": {},
   "outputs": [
    {
     "name": "stdout",
     "output_type": "stream",
     "text": [
      "0\n",
      "1\n",
      "2\n",
      "3\n",
      "4\n",
      "5\n",
      "6\n",
      "7\n",
      "8\n",
      "9\n"
     ]
    },
    {
     "data": {
      "text/plain": [
       "'In range(10) ,the range function prints upto n-1 numbers,here n is 10 ,so upto nine numbers it will print'"
      ]
     },
     "execution_count": 93,
     "metadata": {},
     "output_type": "execute_result"
    }
   ],
   "source": [
    "for i in range(10):\n",
    "    print(i)\n",
    "    \n",
    "    \n",
    "\"\"\"In range(10) ,the range function prints upto n-1 numbers,here n is 10 ,so upto nine numbers it will print\"\"\""
   ]
  },
  {
   "cell_type": "code",
   "execution_count": 86,
   "id": "c5f56f9d",
   "metadata": {},
   "outputs": [
    {
     "name": "stdout",
     "output_type": "stream",
     "text": [
      "0\n",
      "1\n",
      "2\n",
      "3\n",
      "4\n",
      "5\n",
      "6\n",
      "7\n",
      "8\n",
      "9\n"
     ]
    }
   ],
   "source": [
    "for i in range(0,10):\n",
    "    print(i)\n",
    "    \n",
    "\"\"\"In range(0,10),the first parametr is starting index and the next parameter is end index,and it prints\n",
    "upto n-1 values,so both range(10),range(0,10) is same\"\"\""
   ]
  },
  {
   "cell_type": "code",
   "execution_count": 87,
   "id": "75f7a9f2",
   "metadata": {},
   "outputs": [
    {
     "name": "stdout",
     "output_type": "stream",
     "text": [
      "0\n",
      "1\n",
      "2\n",
      "3\n",
      "4\n",
      "5\n",
      "6\n",
      "7\n",
      "8\n",
      "9\n"
     ]
    }
   ],
   "source": [
    "for i in range(0,10,1):\n",
    "    print(i)\n",
    "    \n",
    "    \n",
    "    \n",
    "\"\"\"In range(0,10,1) first parametr is starting index,and the next parameter is end index,next parameter is \"step index\n",
    "it means how many index it has to jump after adding one index,by default it is 1\"\"\""
   ]
  },
  {
   "cell_type": "code",
   "execution_count": 95,
   "id": "84072df1",
   "metadata": {},
   "outputs": [
    {
     "name": "stdout",
     "output_type": "stream",
     "text": [
      "1\n",
      "2\n",
      "3\n",
      "4\n",
      "5\n",
      "6\n",
      "7\n",
      "8\n",
      "9\n",
      "10\n"
     ]
    }
   ],
   "source": [
    "for i in range(11):\n",
    "    if i==0:\n",
    "        continue\n",
    "    else:\n",
    "        print(i)\n"
   ]
  },
  {
   "cell_type": "code",
   "execution_count": 11,
   "id": "1843d539",
   "metadata": {},
   "outputs": [
    {
     "name": "stdout",
     "output_type": "stream",
     "text": [
      "1\n",
      "2\n",
      "3\n",
      "4\n",
      "5\n",
      "6\n",
      "7\n",
      "8\n",
      "9\n",
      "10\n"
     ]
    }
   ],
   "source": [
    "i=1\n",
    "while(i<=10):\n",
    "    print(i)\n",
    "    i+=1\n",
    "        \n",
    " "
   ]
  },
  {
   "cell_type": "code",
   "execution_count": null,
   "id": "0d2e656c",
   "metadata": {},
   "outputs": [],
   "source": [
    "\"\"\"from spam import *\n",
    "           bacon()       \"\"\"\n",
    "or\n",
    "\"\"\"from spam import bacon\n",
    "             bacon()      \"\"\""
   ]
  }
 ],
 "metadata": {
  "kernelspec": {
   "display_name": "Python 3 (ipykernel)",
   "language": "python",
   "name": "python3"
  },
  "language_info": {
   "codemirror_mode": {
    "name": "ipython",
    "version": 3
   },
   "file_extension": ".py",
   "mimetype": "text/x-python",
   "name": "python",
   "nbconvert_exporter": "python",
   "pygments_lexer": "ipython3",
   "version": "3.9.7"
  }
 },
 "nbformat": 4,
 "nbformat_minor": 5
}
